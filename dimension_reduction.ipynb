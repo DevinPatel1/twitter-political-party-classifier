{
 "cells": [
  {
   "cell_type": "markdown",
   "metadata": {},
   "source": [
    "# Politician Sentiment Analysis - Feature Selection\n",
    "\n",
    "Name:       Devin Patel  \n",
    "Class:      CS 588 - 01  \n",
    "Term:       FA 22  \n",
    "Project:    Determining party alignment based on 2016 Election tweets.  \n",
    "File Purpose: To plot feature data and determine the best\n",
    "              feature selection/dimensional reduction method."
   ]
  },
  {
   "cell_type": "markdown",
   "metadata": {},
   "source": [
    "## Initialization"
   ]
  },
  {
   "cell_type": "code",
   "execution_count": null,
   "metadata": {},
   "outputs": [],
   "source": [
    "# Imports\n",
    "import numpy as np\n",
    "import pandas as pd\n",
    "import scipy.io\n",
    "from matplotlib import pyplot as plt\n",
    "import seaborn as sns\n",
    "\n",
    "\n",
    "from sklearn.decomposition import PCA\n",
    "from sklearn.discriminant_analysis import LinearDiscriminantAnalysis as LDA\n",
    "from sklearn.feature_selection import SelectKBest       # ANOVA\n",
    "from sklearn.feature_selection import f_regression      # ANOVA\n",
    "from sklearn.preprocessing import MinMaxScaler          # Normalizing data points\n",
    "\n",
    "\n",
    "# Paths and Constants\n",
    "twitter_data_path = r\"Data/TweetData.pkl\"\n",
    "RANDOM_STATE = 12\n",
    "KEPT_FEATURES = 2\n",
    "NORM_RANGE = (0, 1)\n"
   ]
  },
  {
   "cell_type": "code",
   "execution_count": null,
   "metadata": {},
   "outputs": [],
   "source": [
    "# Exports pyplot figure\n",
    "import os\n",
    "\n",
    "def exportFig(fname):\n",
    "    exportPath = \"Figures/dimension_reduction\"\n",
    "\n",
    "    try:\n",
    "        if not os.path.exists(exportPath): os.mkdir(exportPath)\n",
    "    except Exception:\n",
    "        print(\"Can't create a directory to store figures, so they will not be saved.\")\n",
    "        return\n",
    "    \n",
    "    exportPath = os.path.join(exportPath, fname)\n",
    "    \n",
    "    plt.savefig(exportPath)"
   ]
  },
  {
   "cell_type": "code",
   "execution_count": null,
   "metadata": {},
   "outputs": [],
   "source": [
    "# Loading Representative data from pkl file\n",
    "X_df = pd.read_pickle(twitter_data_path, compression='infer')\n",
    "\n",
    "# Separate ground truth from dataframe.\n",
    "party_gth_df = pd.DataFrame(X_df.pop('Party'))\n",
    "\n",
    "# Create class labels list for both ground truth dataframes\n",
    "party_gth_labels = [\"R\", \"D\"] # Based on preprocessing: 0 = Republican, 1 = Democrat\n",
    "\n",
    "# Create feature labels list\n",
    "feature_labels = X_df.columns.values.tolist()\n",
    "\n",
    "scaler_model = MinMaxScaler(feature_range=NORM_RANGE)\n",
    "scaler_model.fit(X_df)\n",
    "X = scaler_model.transform(X_df)\n",
    "X_df = pd.DataFrame(X, columns=feature_labels)\n",
    "\n",
    "# Data is ready\n",
    "print(f\"\\nShape of main dataframe: {X_df.shape}\")\n"
   ]
  },
  {
   "cell_type": "markdown",
   "metadata": {},
   "source": [
    "## Correlation Matrix"
   ]
  },
  {
   "cell_type": "code",
   "execution_count": null,
   "metadata": {},
   "outputs": [],
   "source": [
    "# @bookmark Correlation matrix\n",
    "corr_eff = X_df.corr(numeric_only=True)\n",
    "\n",
    "HEATSIZE = (12,6)\n",
    "# Visualize iris features as heatmap\n",
    "plt1 = plt.figure(figsize=HEATSIZE)\n",
    "plt1.suptitle(\"Tweet Correlation Matrix\")\n",
    "sns.heatmap(corr_eff, linecolor='white', linewidths=1, annot=True)\n",
    "exportFig(r\"Correlation-Matrix.png\")\n",
    "\n",
    "# Visualize only lower triangular matrix\n",
    "plt2_fig, plt2_ax = plt.subplots(figsize=HEATSIZE)\n",
    "plt2_fig.suptitle(\"Tweet Lower C Matrix\")\n",
    "\n",
    "# Compute C matrix mask\n",
    "mask = np.zeros_like(corr_eff)\n",
    "\n",
    "# If mask = 0, display entire correlation matrix\n",
    "# If mask = 1, display the unique lower triangular values\n",
    "MASK_SETTING = 1\n",
    "mask[np.triu_indices_from(mask)] = MASK_SETTING\n",
    "\n",
    "# Creates heat map of plot 2\n",
    "sns.heatmap(corr_eff, linecolor='white', linewidths=1, mask=mask, ax=plt2_ax, annot=True)\n",
    "\n",
    "plt.show()\n",
    "\n",
    "def toLabel(label):\n",
    "    return party_gth_labels[label]\n",
    "\n",
    "# Creates plots of classes by Party\n",
    "g = sns.pairplot(pd.concat([X_df, party_gth_df['Party'].apply(toLabel)], axis=1), hue='Party', hue_order=party_gth_labels[::-1], palette={'R': '#FF0000', 'D': '#0000FF'})\n",
    "exportFig(r\"FullPlot-Party.png\")\n",
    "plt.show()\n"
   ]
  },
  {
   "cell_type": "markdown",
   "metadata": {},
   "source": [
    "## PCA"
   ]
  },
  {
   "cell_type": "code",
   "execution_count": null,
   "metadata": {},
   "outputs": [],
   "source": [
    "# @bookmark PCA\n",
    "\n",
    "# Run PCA on all features to get explained variance of all features\n",
    "pca = PCA(n_components=len(feature_labels), random_state=RANDOM_STATE)\n",
    "pca.fit_transform(X)\n",
    "\n",
    "ev = list(pca.explained_variance_ratio_)\n",
    "print(f\"explained variance ratio: {ev}\")\n"
   ]
  },
  {
   "cell_type": "code",
   "execution_count": null,
   "metadata": {},
   "outputs": [],
   "source": [
    "# PCA analysis\n",
    "PCA_KEPT_COMPONENTS = KEPT_FEATURES # Max 4\n",
    "\n",
    "pca = PCA(n_components=PCA_KEPT_COMPONENTS)\n",
    "X_r = pca.fit_transform(X)\n",
    "print(f\"Shape of X before PCA: {X.shape}\")\n",
    "print(f\"New shape of X after PCA: {X_r.shape}\")\n",
    "\n",
    "# Plot separate parties\n",
    "def plot_separate_PCA_features(feature1, feature2, title=\"Default Title\", outfile=\"outfile.png\"):\n",
    "    fig, ax = plt.subplots(1, 2, figsize=(10,4))\n",
    "    fig.tight_layout(pad=4.0)\n",
    "    plt.suptitle(title)\n",
    "    ax[0].set_title(\"Republican\")\n",
    "    ax[1].set_title(\"Democrat\")\n",
    "    ax[0].set_xlabel(\"PC-1\")\n",
    "    ax[0].set_ylabel(\"PC-2\")\n",
    "    ax[1].set_xlabel(\"PC-1\")\n",
    "    ax[1].set_ylabel(\"PC-2\")\n",
    "    party_colors = ['r', 'b']\n",
    "    lw = 1\n",
    "\n",
    "    for color, party, target_name in zip(party_colors, [i for i in range(len(party_gth_labels))], party_gth_labels):\n",
    "        ax[0].scatter(X_r[party_gth_df['Party']==0, feature1], # X-axis\n",
    "                    X_r[party_gth_df['Party']==0, feature2], # Y-axis\n",
    "                    color=party_colors[0], alpha=.8, lw=lw, label=target_name)\n",
    "        ax[1].scatter(X_r[party_gth_df['Party']==1, feature1], # X-axis\n",
    "                    X_r[party_gth_df['Party']==1, feature2], # Y-axis\n",
    "                    color=party_colors[1], alpha=.8, lw=lw, label=target_name)\n",
    "\n",
    "    exportFig(outfile)\n",
    "\n",
    "    plt.show()\n",
    "\n",
    "# Plot two PC's with separate Party affiliation\n",
    "plot_separate_PCA_features(0, 1, title=\"PCA on Sentiment Analysis by Party\", outfile=r\"PCA-separate.png\")\n",
    "\n",
    "\n",
    "\n",
    "# Plot two PC's overlayed with Party affiliation\n",
    "plt.figure(figsize=(6,4))\n",
    "plt.title(\"PCA of Sentiment Data by Party\")\n",
    "plt.xlabel(\"PC-1\")\n",
    "plt.ylabel(\"PC-2\")\n",
    "party_colors = ['r', 'b']\n",
    "lw = 2\n",
    "\n",
    "for color, party, target_name in zip(party_colors, [i for i in range(len(party_gth_labels))], party_gth_labels):\n",
    "    plt.scatter(X_r[party_gth_df['Party']==party,0], # X-axis\n",
    "                  X_r[party_gth_df['Party']==party,1], # Y-axis\n",
    "                  color=color, alpha=.8, lw=lw, label=target_name)\n",
    "plt.legend(loc='best', shadow=False, scatterpoints=1)\n",
    "\n",
    "exportFig(r\"PCA-overlayed.png\")\n",
    "plt.show()\n"
   ]
  },
  {
   "cell_type": "markdown",
   "metadata": {},
   "source": [
    "## LDA"
   ]
  },
  {
   "cell_type": "code",
   "execution_count": null,
   "metadata": {},
   "outputs": [],
   "source": [
    "# @bookmark LDA\n",
    "LDA_KEPT_COMPONENTS = 1 # Max 1 because 2 parties\n",
    "lda = LDA(n_components=LDA_KEPT_COMPONENTS)\n",
    "X_r2 = lda.fit_transform(X, party_gth_df[\"Party\"])\n",
    "\n",
    "print(f\"Shape of X before LDA: {X.shape}\")\n",
    "print(f\"New shape of X after LDA: {X_r2.shape}\")\n",
    "\n",
    "print(X_r2)\n"
   ]
  },
  {
   "cell_type": "markdown",
   "metadata": {},
   "source": [
    "## ANOVA"
   ]
  },
  {
   "cell_type": "code",
   "execution_count": null,
   "metadata": {},
   "outputs": [],
   "source": [
    "# @bookmark ANOVA\n",
    "ANOVA_KEPT_COMPONENTS = KEPT_FEATURES\n",
    "fs = SelectKBest(score_func=f_regression, k=ANOVA_KEPT_COMPONENTS)\n",
    "X_r3 = fs.fit_transform(X, party_gth_df['Party'])\n"
   ]
  },
  {
   "cell_type": "code",
   "execution_count": null,
   "metadata": {},
   "outputs": [],
   "source": [
    "# Plot ANOVA\n",
    "def plot_separate_ANOVA_features(feature1, feature2, title=\"Default Title\", outfile=\"outfile.png\"):\n",
    "    fig, ax = plt.subplots(1, 2, figsize=(12,4))\n",
    "    fig.tight_layout(pad=4.0)\n",
    "    plt.suptitle(title)\n",
    "    ax[0].set_title(\"Republican\")\n",
    "    ax[1].set_title(\"Democrat\")\n",
    "    ax[0].set_xlabel(\"ANOVA-1\")\n",
    "    ax[0].set_ylabel(\"ANOVA-2\")\n",
    "    ax[1].set_xlabel(\"ANOVA-1\")\n",
    "    ax[1].set_ylabel(\"ANOVA-2\")\n",
    "    party_colors = ['r', 'b']\n",
    "    lw = 1\n",
    "\n",
    "    for color, party, target_name in zip(party_colors, [i for i in range(len(party_gth_labels))], party_gth_labels):\n",
    "        ax[0].scatter(X_r3[party_gth_df['Party']==0, feature1], # X-axis\n",
    "                    X_r3[party_gth_df['Party']==0, feature2], # Y-axis\n",
    "                    color=party_colors[0], alpha=.8, lw=lw, label=target_name)\n",
    "        ax[1].scatter(X_r3[party_gth_df['Party']==1, feature1], # X-axis\n",
    "                    X_r3[party_gth_df['Party']==1, feature2], # Y-axis\n",
    "                    color=party_colors[1], alpha=.8, lw=lw, label=target_name)\n",
    "\n",
    "    exportFig(outfile)\n",
    "\n",
    "    plt.show()\n",
    "    \n",
    "plot_separate_ANOVA_features(feature1=0, feature2=1, title=\"ANOVA of Sentiment Data by Party\", outfile=\"ANOVA-Party.png\")\n"
   ]
  }
 ],
 "metadata": {
  "kernelspec": {
   "display_name": "Python 3.10.8 ('TermProjectEnv': venv)",
   "language": "python",
   "name": "python3"
  },
  "language_info": {
   "codemirror_mode": {
    "name": "ipython",
    "version": 3
   },
   "file_extension": ".py",
   "mimetype": "text/x-python",
   "name": "python",
   "nbconvert_exporter": "python",
   "pygments_lexer": "ipython3",
   "version": "3.10.8"
  },
  "orig_nbformat": 4,
  "vscode": {
   "interpreter": {
    "hash": "46e72866615fe58db29ecb495c2e0a5a245101998666c55885bf45c1dc41d765"
   }
  }
 },
 "nbformat": 4,
 "nbformat_minor": 2
}
